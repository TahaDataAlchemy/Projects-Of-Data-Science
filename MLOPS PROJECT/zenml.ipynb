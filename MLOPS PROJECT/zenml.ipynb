{
 "cells": [
  {
   "cell_type": "code",
   "execution_count": 3,
   "metadata": {},
   "outputs": [],
   "source": [
    "from zenml.environment import Environment"
   ]
  },
  {
   "cell_type": "markdown",
   "metadata": {},
   "source": [
    "# ZENML SETUP"
   ]
  },
  {
   "cell_type": "code",
   "execution_count": 4,
   "metadata": {},
   "outputs": [
    {
     "name": "stdout",
     "output_type": "stream",
     "text": [
      "\u001b[1;35mInitializing the ZenML global configuration version to 0.57.1\u001b[0m\n",
      "⠋ Initializing ZenML repository at \n",
      "c:\\Users\\Pc\\Desktop\\Taha\\Projects-Of-Data-Science\\MLOPS PROJECT.\n",
      "\n",
      "⠙ Initializing ZenML repository at \n",
      "c:\\Users\\Pc\\Desktop\\Taha\\Projects-Of-Data-Science\\MLOPS PROJECT.\n",
      "\u001b[1;35mCreating database tables\u001b[0m\n",
      "\n",
      "⠹ Initializing ZenML repository at \n",
      "c:\\Users\\Pc\\Desktop\\Taha\\Projects-Of-Data-Science\\MLOPS PROJECT.\n",
      "\n",
      "⠸ Initializing ZenML repository at \n",
      "c:\\Users\\Pc\\Desktop\\Taha\\Projects-Of-Data-Science\\MLOPS PROJECT.\n",
      "\n",
      "⠼ Initializing ZenML repository at \n",
      "c:\\Users\\Pc\\Desktop\\Taha\\Projects-Of-Data-Science\\MLOPS PROJECT.\n",
      "\n",
      "⠇ Initializing ZenML repository at \n",
      "c:\\Users\\Pc\\Desktop\\Taha\\Projects-Of-Data-Science\\MLOPS PROJECT.\n",
      "\n",
      "⠏ Initializing ZenML repository at \n",
      "c:\\Users\\Pc\\Desktop\\Taha\\Projects-Of-Data-Science\\MLOPS PROJECT.\n",
      "\n",
      "⠙ Initializing ZenML repository at \n",
      "c:\\Users\\Pc\\Desktop\\Taha\\Projects-Of-Data-Science\\MLOPS PROJECT.\n",
      "\u001b[1;35mCreating default workspace 'default' ...\u001b[0m\n",
      "\n",
      "⠹ Initializing ZenML repository at \n",
      "c:\\Users\\Pc\\Desktop\\Taha\\Projects-Of-Data-Science\\MLOPS PROJECT.\n",
      "\u001b[1;35mCreating default stack in workspace default...\u001b[0m\n",
      "\n",
      "⠸ Initializing ZenML repository at \n",
      "c:\\Users\\Pc\\Desktop\\Taha\\Projects-Of-Data-Science\\MLOPS PROJECT.\n",
      "\n",
      "⠼ Initializing ZenML repository at \n",
      "c:\\Users\\Pc\\Desktop\\Taha\\Projects-Of-Data-Science\\MLOPS PROJECT.\n",
      "\n",
      "⠴ Initializing ZenML repository at \n",
      "c:\\Users\\Pc\\Desktop\\Taha\\Projects-Of-Data-Science\\MLOPS PROJECT.\n",
      "\n",
      "⠦ Initializing ZenML repository at \n",
      "c:\\Users\\Pc\\Desktop\\Taha\\Projects-Of-Data-Science\\MLOPS PROJECT.\n",
      "\n",
      "⠧ Initializing ZenML repository at \n",
      "c:\\Users\\Pc\\Desktop\\Taha\\Projects-Of-Data-Science\\MLOPS PROJECT.\n",
      "\n",
      "⠏ Initializing ZenML repository at \n",
      "c:\\Users\\Pc\\Desktop\\Taha\\Projects-Of-Data-Science\\MLOPS PROJECT.\n",
      "\u001b[1;35mSetting the global active workspace to 'default'.\u001b[0m\n",
      "\u001b[33mSetting the global active stack to default.\u001b[0m\n",
      "\u001b[1;35mSetting the repo active workspace to 'default'.\u001b[0m\n",
      "\u001b[33mSetting the repo active stack to default.\u001b[0m\n",
      "\n",
      "⠋ Initializing ZenML repository at \n",
      "c:\\Users\\Pc\\Desktop\\Taha\\Projects-Of-Data-Science\\MLOPS PROJECT.\n",
      "\n",
      "⠙ Initializing ZenML repository at \n",
      "c:\\Users\\Pc\\Desktop\\Taha\\Projects-Of-Data-Science\\MLOPS PROJECT.\n",
      "\n",
      "⠹ Initializing ZenML repository at \n",
      "c:\\Users\\Pc\\Desktop\\Taha\\Projects-Of-Data-Science\\MLOPS PROJECT.\n",
      "\n",
      "⠸ Initializing ZenML repository at \n",
      "c:\\Users\\Pc\\Desktop\\Taha\\Projects-Of-Data-Science\\MLOPS PROJECT.\n",
      "\n",
      "⠼ Initializing ZenML repository at \n",
      "c:\\Users\\Pc\\Desktop\\Taha\\Projects-Of-Data-Science\\MLOPS PROJECT.\n",
      "\n",
      "⠴ Initializing ZenML repository at \n",
      "c:\\Users\\Pc\\Desktop\\Taha\\Projects-Of-Data-Science\\MLOPS PROJECT.\n",
      "\n",
      "⠧ Initializing ZenML repository at \n",
      "c:\\Users\\Pc\\Desktop\\Taha\\Projects-Of-Data-Science\\MLOPS PROJECT.\n",
      "\n",
      "⠇ Initializing ZenML repository at \n",
      "c:\\Users\\Pc\\Desktop\\Taha\\Projects-Of-Data-Science\\MLOPS PROJECT.\n",
      "\n",
      "⠏ Initializing ZenML repository at \n",
      "c:\\Users\\Pc\\Desktop\\Taha\\Projects-Of-Data-Science\\MLOPS PROJECT.\n",
      "\n",
      "⠋ Initializing ZenML repository at \n",
      "c:\\Users\\Pc\\Desktop\\Taha\\Projects-Of-Data-Science\\MLOPS PROJECT.\n",
      "\n",
      "⠙ Initializing ZenML repository at \n",
      "c:\\Users\\Pc\\Desktop\\Taha\\Projects-Of-Data-Science\\MLOPS PROJECT.\n",
      "\n",
      "⠸ Initializing ZenML repository at \n",
      "c:\\Users\\Pc\\Desktop\\Taha\\Projects-Of-Data-Science\\MLOPS PROJECT.\n",
      "\n",
      "⠼ Initializing ZenML repository at \n",
      "c:\\Users\\Pc\\Desktop\\Taha\\Projects-Of-Data-Science\\MLOPS PROJECT.\n",
      "\n",
      "⠴ Initializing ZenML repository at \n",
      "c:\\Users\\Pc\\Desktop\\Taha\\Projects-Of-Data-Science\\MLOPS PROJECT.\n",
      "\n",
      "⠦ Initializing ZenML repository at \n",
      "c:\\Users\\Pc\\Desktop\\Taha\\Projects-Of-Data-Science\\MLOPS PROJECT.\n",
      "\u001b[1;35mReloading configuration file C:\\Users\\Pc\\Desktop\\Taha\\Projects-Of-Data-Science\\MLOPS PROJECT\\.zen\\config.yaml\u001b[0m\n",
      "\n",
      "ZenML repository initialized at \n",
      "c:\\Users\\Pc\\Desktop\\Taha\\Projects-Of-Data-Science\\MLOPS PROJECT.\n",
      "⠧ Initializing ZenML repository at \n",
      "c:\\Users\\Pc\\Desktop\\Taha\\Projects-Of-Data-Science\\MLOPS PROJECT.\n",
      "\n",
      "⠧ Initializing ZenML repository at \n",
      "c:\\Users\\Pc\\Desktop\\Taha\\Projects-Of-Data-Science\\MLOPS PROJECT.\n",
      "\n",
      "\n",
      "The local active stack was initialized to 'default'. This local configuration \n",
      "will only take effect when you're running ZenML from the initialized repository\n",
      "root, or from a subdirectory. For more information on repositories and \n",
      "configurations, please visit \n",
      "https://docs.zenml.io/user-guide/starter-guide/understand-stacks.\n"
     ]
    }
   ],
   "source": [
    "!rm -rf .zen\n",
    "!zenml init"
   ]
  },
  {
   "cell_type": "markdown",
   "metadata": {},
   "source": [
    "# EXPERIMENTATION ML CODE"
   ]
  },
  {
   "cell_type": "markdown",
   "metadata": {},
   "source": [
    "***It is only for example, the proper version of zenml is way more complex***"
   ]
  },
  {
   "cell_type": "markdown",
   "metadata": {},
   "source": [
    "# Purpose of ClassifierMixin\n",
    "\n",
    "\n",
    "The ClassifierMixin class ensures that any classifier algorithm in scikit-learn adheres to a common interface, which includes methods for fitting the model to the data, making predictions, and evaluating the model's performance. This standardization allows users to easily switch between different classifier algorithms without having to change their code significantly."
   ]
  },
  {
   "cell_type": "code",
   "execution_count": 7,
   "metadata": {},
   "outputs": [],
   "source": [
    "import numpy as np\n",
    "from sklearn.base import ClassifierMixin\n",
    "from sklearn.svm import SVC\n",
    "from sklearn.datasets import load_digits\n",
    "from sklearn.model_selection import train_test_split"
   ]
  },
  {
   "cell_type": "code",
   "execution_count": 10,
   "metadata": {},
   "outputs": [],
   "source": [
    "def train_test() -> None:\n",
    "    digits = load_digits()\n",
    "    data = digits.images.reshape(len(digits.images),-1)\n",
    "    X_train,X_test,y_train,y_test = train_test_split(\n",
    "        data,digits.target,test_size=0.2, shuffle = False\n",
    "    )\n",
    "    model = SVC(gamma=0.001)\n",
    "    model.fit(X_train,y_train)\n",
    "    test_acc = model.score(X_test,y_test)\n",
    "    print(f\"Test accuracy: {test_acc}\")\n"
   ]
  },
  {
   "cell_type": "code",
   "execution_count": 11,
   "metadata": {},
   "outputs": [
    {
     "name": "stdout",
     "output_type": "stream",
     "text": [
      "Test accuracy: 0.9583333333333334\n"
     ]
    }
   ],
   "source": [
    "train_test()"
   ]
  },
  {
   "cell_type": "code",
   "execution_count": null,
   "metadata": {},
   "outputs": [],
   "source": []
  }
 ],
 "metadata": {
  "kernelspec": {
   "display_name": "Python 3",
   "language": "python",
   "name": "python3"
  },
  "language_info": {
   "codemirror_mode": {
    "name": "ipython",
    "version": 3
   },
   "file_extension": ".py",
   "mimetype": "text/x-python",
   "name": "python",
   "nbconvert_exporter": "python",
   "pygments_lexer": "ipython3",
   "version": "3.10.8"
  }
 },
 "nbformat": 4,
 "nbformat_minor": 2
}
